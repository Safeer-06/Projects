{
 "cells": [
  {
   "cell_type": "code",
   "execution_count": 3,
   "metadata": {},
   "outputs": [],
   "source": [
    "import tensorflow\n"
   ]
  },
  {
   "cell_type": "code",
   "execution_count": 1,
   "metadata": {},
   "outputs": [],
   "source": [
    "# from keras.models import load_model\n",
    "# from tensorflow.keras.preprocessing.image import img_to_array\n",
    "# from tensorflow.keras.models import load_model\n",
    "# classifier = load_model('ocular_model1.h5')"
   ]
  },
  {
   "cell_type": "code",
   "execution_count": 1,
   "metadata": {},
   "outputs": [],
   "source": [
    "from tensorflow import keras\n",
    "import os\n",
    "model = keras.models.load_model('ocular_model1.h5')\n",
    "# print(tensorflow.__version__)"
   ]
  },
  {
   "cell_type": "code",
   "execution_count": 4,
   "metadata": {},
   "outputs": [],
   "source": [
    "import cv2 as cv\n",
    "\n",
    "\n",
    "\n",
    "def crop_image_resize(img, ImageSize):\n",
    "    #img = cv2.imread(imgPath)\n",
    "    height, width = img.shape[:2]\n",
    "#     print(width)\n",
    "#     print(height)\n",
    "    if width == height:\n",
    "        return cv.resize(img, ImageSize)\n",
    "        \n",
    "    length = min(width, height)\n",
    "    left = (width - length) // 2\n",
    "    top = (height - length) // 2\n",
    "    right = (width + length) // 2\n",
    "    bottom = (height + length) // 2\n",
    "    return cv.resize(img[top:bottom,left:right], ImageSize)\n",
    "\n",
    "def read_image(path_of_image):\n",
    "    \n",
    "    img = cv.imread(path_of_image)\n",
    "#     image_bw = cv.cvtColor(img, cv.COLOR_BGR2GRAY) \n",
    "  \n",
    "#     # The declaration of CLAHE  \n",
    "#     # clipLimit -> Threshold for contrast limiting \n",
    "#     clahe = cv.createCLAHE(clipLimit = 5) \n",
    "#     final_img = clahe.apply(image_bw) + 30\n",
    "#     print(img)\n",
    "    final_image = crop_image_resize(img, (250, 250))\n",
    "    cv.imwrite(path_of_image,final_image)\n",
    "#     RGB_im = cv.cvtColor(final_image, cv.COLOR_BGR2RGB)\n",
    "#     plt.imshow(RGB_im)\n",
    "#     print(img.shape)"
   ]
  },
  {
   "cell_type": "code",
   "execution_count": 5,
   "metadata": {},
   "outputs": [],
   "source": [
    "testing_image = 'ODIR-5K/Testing Images'\n",
    "images = [f for f in os.listdir(testing_image) if os.path.splitext(f)[-1] == '.jpg']\n",
    "\n",
    "for image in images:\n",
    "    read_image('ODIR-5K/Testing Images/'+image)"
   ]
  },
  {
   "cell_type": "code",
   "execution_count": 6,
   "metadata": {},
   "outputs": [],
   "source": [
    "import tensorflow as tf\n",
    "test_ds = tf.data.Dataset.list_files(\"ODIR-5K/Testing Images/*.jpg\", shuffle=False)"
   ]
  },
  {
   "cell_type": "code",
   "execution_count": 7,
   "metadata": {},
   "outputs": [
    {
     "name": "stdout",
     "output_type": "stream",
     "text": [
      "b'ODIR-5K\\\\Testing Images\\\\937_left.jpg'\n",
      "b'ODIR-5K\\\\Testing Images\\\\937_right.jpg'\n"
     ]
    }
   ],
   "source": [
    "for f in test_ds:\n",
    "    print(f.numpy())"
   ]
  },
  {
   "cell_type": "code",
   "execution_count": 8,
   "metadata": {},
   "outputs": [],
   "source": [
    "import matplotlib.pyplot as plt\n",
    "\n",
    "def decode_img(img):\n",
    "    img = tf.io.read_file(img)\n",
    "    img = tf.image.decode_jpeg(img, channels=3)\n",
    "    img = tf.image.convert_image_dtype(img, tf.float32)\n",
    "    return img\n",
    "\n",
    "AUTOTUNE = tf.data.experimental.AUTOTUNE\n",
    "test_ds2 = test_ds.map(decode_img, num_parallel_calls=AUTOTUNE)"
   ]
  },
  {
   "cell_type": "code",
   "execution_count": 121,
   "metadata": {},
   "outputs": [],
   "source": [
    "# for image in test_ds2.take(2):\n",
    "#     plt.imshow(image.numpy())"
   ]
  },
  {
   "cell_type": "code",
   "execution_count": 9,
   "metadata": {},
   "outputs": [
    {
     "name": "stdout",
     "output_type": "stream",
     "text": [
      "<BatchDataset shapes: (None, None, None, 3), types: tf.float32>\n"
     ]
    }
   ],
   "source": [
    "test_ds3 = test_ds2.batch(32)\n",
    "print(test_ds3)"
   ]
  },
  {
   "cell_type": "code",
   "execution_count": 10,
   "metadata": {},
   "outputs": [],
   "source": [
    "predictions = model.predict(test_ds3)"
   ]
  },
  {
   "cell_type": "code",
   "execution_count": 11,
   "metadata": {},
   "outputs": [
    {
     "name": "stdout",
     "output_type": "stream",
     "text": [
      "[0.99  0.147 0.    0.    0.029 0.003 0.    0.131]\n",
      "[0.681 0.33  0.    0.    0.005 0.011 0.    0.489]\n"
     ]
    }
   ],
   "source": [
    "import numpy\n",
    "numpy.set_printoptions(precision=3,  suppress=True)\n",
    "print(predictions[0])\n",
    "print(predictions[1])"
   ]
  },
  {
   "cell_type": "code",
   "execution_count": 12,
   "metadata": {},
   "outputs": [],
   "source": [
    "def merge_two(left, right):\n",
    "    final_table = [0, 0, 0, 0, 0, 0, 0, 0]\n",
    "    counter = 0\n",
    "    not_n = 0\n",
    "    for l in left:\n",
    "        r = right[counter]\n",
    "        if l>=r:\n",
    "            final_table[counter] = l\n",
    "        else:\n",
    "            final_table[counter] = r\n",
    "        if (l>0.5 or r >0.5) and counter>0:\n",
    "            print(l ,r, counter)\n",
    "            not_n=1\n",
    "        counter+=1\n",
    "    if not_n == 1:\n",
    "        final_table[0] = 0\n",
    "    return final_table"
   ]
  },
  {
   "cell_type": "code",
   "execution_count": 13,
   "metadata": {},
   "outputs": [],
   "source": [
    "f_t = merge_two(predictions[0], predictions[1])"
   ]
  },
  {
   "cell_type": "code",
   "execution_count": 14,
   "metadata": {},
   "outputs": [
    {
     "name": "stdout",
     "output_type": "stream",
     "text": [
      "[0.98961127, 0.32979333, 2.2266864e-05, 4.3620666e-08, 0.029275775, 0.011309564, 1.4064368e-10, 0.4885053]\n",
      "None\n",
      "0.98961127\n",
      "0\n",
      "normal\n"
     ]
    }
   ],
   "source": [
    "print(print(f_t))\n",
    "print(max(f_t))\n",
    "print(f_t.index(max(f_t)))\n",
    "x=f_t.index(max(f_t))\n",
    "if (x==0):\n",
    "    print(\"normal\")\n",
    "elif (x==1):\n",
    "    print(\"diabetes\")\n",
    "elif(x==2):\n",
    "    print(\"Glaucoma\")\n",
    "elif(x==3):\n",
    "    print(\"cataract\")\n",
    "elif(x==4):\n",
    "    print(\"AMD\")\n",
    "elif(x==5):\n",
    "    print(\"Hyper\")\n",
    "elif(x==6):\n",
    "    print(\"Myopia\")\n",
    "elif(x==7):\n",
    "    print(\"Other\")\n"
   ]
  },
  {
   "cell_type": "code",
   "execution_count": 15,
   "metadata": {},
   "outputs": [
    {
     "name": "stdout",
     "output_type": "stream",
     "text": [
      "0\n"
     ]
    }
   ],
   "source": [
    "numpy.set_printoptions(precision=3,  suppress=True)\n",
    "\n",
    "print(f_t.index(max(f_t)))"
   ]
  },
  {
   "cell_type": "code",
   "execution_count": 16,
   "metadata": {},
   "outputs": [
    {
     "name": "stdout",
     "output_type": "stream",
     "text": [
      "1000 [0.98961127, 0.32979333, 2.2266864e-05, 4.3620666e-08, 0.029275775, 0.011309564, 1.4064368e-10, 0.4885053]\n"
     ]
    }
   ],
   "source": [
    "init = 1000\n",
    "counter = 0\n",
    "for element in predictions:\n",
    "    if counter %2 ==0:\n",
    "        print(init, merge_two(predictions[counter], predictions[counter+1]))\n",
    "        init+=1\n",
    "    counter+=1"
   ]
  },
  {
   "cell_type": "code",
   "execution_count": null,
   "metadata": {},
   "outputs": [],
   "source": []
  },
  {
   "cell_type": "code",
   "execution_count": null,
   "metadata": {},
   "outputs": [],
   "source": []
  }
 ],
 "metadata": {
  "kernelspec": {
   "display_name": "Python 3",
   "language": "python",
   "name": "python3"
  },
  "language_info": {
   "codemirror_mode": {
    "name": "ipython",
    "version": 3
   },
   "file_extension": ".py",
   "mimetype": "text/x-python",
   "name": "python",
   "nbconvert_exporter": "python",
   "pygments_lexer": "ipython3",
   "version": "3.8.5"
  }
 },
 "nbformat": 4,
 "nbformat_minor": 2
}
